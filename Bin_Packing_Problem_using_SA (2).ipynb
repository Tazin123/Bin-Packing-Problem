{
  "nbformat": 4,
  "nbformat_minor": 0,
  "metadata": {
    "colab": {
      "provenance": []
    },
    "kernelspec": {
      "name": "python3",
      "display_name": "Python 3"
    },
    "language_info": {
      "name": "python"
    }
  },
  "cells": [
    {
      "cell_type": "code",
      "execution_count": null,
      "metadata": {
        "id": "JN9QYRjTQdJ-"
      },
      "outputs": [],
      "source": []
    },
    {
      "cell_type": "code",
      "source": [
        "import csv\n",
        "import random\n",
        "import math\n",
        "import matplotlib.pyplot as plt\n",
        "from google.colab import files"
      ],
      "metadata": {
        "id": "VIWLYe3bQ0uQ"
      },
      "execution_count": 1,
      "outputs": []
    },
    {
      "cell_type": "markdown",
      "source": [
        "Upload and Read the CSV file"
      ],
      "metadata": {
        "id": "LoCZEGV6Ako8"
      }
    },
    {
      "cell_type": "code",
      "source": [
        "uploaded = files.upload()\n",
        "\n",
        "def read_csv(filename):\n",
        "    items = []\n",
        "    with open(filename, 'r') as file:\n",
        "        reader = csv.reader(file)\n",
        "        for row in reader:\n",
        "            items.append(float(row[0]))  # Use float to handle both integers and floating-point numbers\n",
        "    return items\n",
        "\n",
        "items = read_csv('items(1).csv')"
      ],
      "metadata": {
        "colab": {
          "base_uri": "https://localhost:8080/",
          "height": 73
        },
        "id": "iYKORH1rQ8Yj",
        "outputId": "b0149684-f2f3-4bc9-8d9c-4de80374ab26"
      },
      "execution_count": 2,
      "outputs": [
        {
          "output_type": "display_data",
          "data": {
            "text/plain": [
              "<IPython.core.display.HTML object>"
            ],
            "text/html": [
              "\n",
              "     <input type=\"file\" id=\"files-a225e710-92c3-4f8c-bf60-22367f448885\" name=\"files[]\" multiple disabled\n",
              "        style=\"border:none\" />\n",
              "     <output id=\"result-a225e710-92c3-4f8c-bf60-22367f448885\">\n",
              "      Upload widget is only available when the cell has been executed in the\n",
              "      current browser session. Please rerun this cell to enable.\n",
              "      </output>\n",
              "      <script>// Copyright 2017 Google LLC\n",
              "//\n",
              "// Licensed under the Apache License, Version 2.0 (the \"License\");\n",
              "// you may not use this file except in compliance with the License.\n",
              "// You may obtain a copy of the License at\n",
              "//\n",
              "//      http://www.apache.org/licenses/LICENSE-2.0\n",
              "//\n",
              "// Unless required by applicable law or agreed to in writing, software\n",
              "// distributed under the License is distributed on an \"AS IS\" BASIS,\n",
              "// WITHOUT WARRANTIES OR CONDITIONS OF ANY KIND, either express or implied.\n",
              "// See the License for the specific language governing permissions and\n",
              "// limitations under the License.\n",
              "\n",
              "/**\n",
              " * @fileoverview Helpers for google.colab Python module.\n",
              " */\n",
              "(function(scope) {\n",
              "function span(text, styleAttributes = {}) {\n",
              "  const element = document.createElement('span');\n",
              "  element.textContent = text;\n",
              "  for (const key of Object.keys(styleAttributes)) {\n",
              "    element.style[key] = styleAttributes[key];\n",
              "  }\n",
              "  return element;\n",
              "}\n",
              "\n",
              "// Max number of bytes which will be uploaded at a time.\n",
              "const MAX_PAYLOAD_SIZE = 100 * 1024;\n",
              "\n",
              "function _uploadFiles(inputId, outputId) {\n",
              "  const steps = uploadFilesStep(inputId, outputId);\n",
              "  const outputElement = document.getElementById(outputId);\n",
              "  // Cache steps on the outputElement to make it available for the next call\n",
              "  // to uploadFilesContinue from Python.\n",
              "  outputElement.steps = steps;\n",
              "\n",
              "  return _uploadFilesContinue(outputId);\n",
              "}\n",
              "\n",
              "// This is roughly an async generator (not supported in the browser yet),\n",
              "// where there are multiple asynchronous steps and the Python side is going\n",
              "// to poll for completion of each step.\n",
              "// This uses a Promise to block the python side on completion of each step,\n",
              "// then passes the result of the previous step as the input to the next step.\n",
              "function _uploadFilesContinue(outputId) {\n",
              "  const outputElement = document.getElementById(outputId);\n",
              "  const steps = outputElement.steps;\n",
              "\n",
              "  const next = steps.next(outputElement.lastPromiseValue);\n",
              "  return Promise.resolve(next.value.promise).then((value) => {\n",
              "    // Cache the last promise value to make it available to the next\n",
              "    // step of the generator.\n",
              "    outputElement.lastPromiseValue = value;\n",
              "    return next.value.response;\n",
              "  });\n",
              "}\n",
              "\n",
              "/**\n",
              " * Generator function which is called between each async step of the upload\n",
              " * process.\n",
              " * @param {string} inputId Element ID of the input file picker element.\n",
              " * @param {string} outputId Element ID of the output display.\n",
              " * @return {!Iterable<!Object>} Iterable of next steps.\n",
              " */\n",
              "function* uploadFilesStep(inputId, outputId) {\n",
              "  const inputElement = document.getElementById(inputId);\n",
              "  inputElement.disabled = false;\n",
              "\n",
              "  const outputElement = document.getElementById(outputId);\n",
              "  outputElement.innerHTML = '';\n",
              "\n",
              "  const pickedPromise = new Promise((resolve) => {\n",
              "    inputElement.addEventListener('change', (e) => {\n",
              "      resolve(e.target.files);\n",
              "    });\n",
              "  });\n",
              "\n",
              "  const cancel = document.createElement('button');\n",
              "  inputElement.parentElement.appendChild(cancel);\n",
              "  cancel.textContent = 'Cancel upload';\n",
              "  const cancelPromise = new Promise((resolve) => {\n",
              "    cancel.onclick = () => {\n",
              "      resolve(null);\n",
              "    };\n",
              "  });\n",
              "\n",
              "  // Wait for the user to pick the files.\n",
              "  const files = yield {\n",
              "    promise: Promise.race([pickedPromise, cancelPromise]),\n",
              "    response: {\n",
              "      action: 'starting',\n",
              "    }\n",
              "  };\n",
              "\n",
              "  cancel.remove();\n",
              "\n",
              "  // Disable the input element since further picks are not allowed.\n",
              "  inputElement.disabled = true;\n",
              "\n",
              "  if (!files) {\n",
              "    return {\n",
              "      response: {\n",
              "        action: 'complete',\n",
              "      }\n",
              "    };\n",
              "  }\n",
              "\n",
              "  for (const file of files) {\n",
              "    const li = document.createElement('li');\n",
              "    li.append(span(file.name, {fontWeight: 'bold'}));\n",
              "    li.append(span(\n",
              "        `(${file.type || 'n/a'}) - ${file.size} bytes, ` +\n",
              "        `last modified: ${\n",
              "            file.lastModifiedDate ? file.lastModifiedDate.toLocaleDateString() :\n",
              "                                    'n/a'} - `));\n",
              "    const percent = span('0% done');\n",
              "    li.appendChild(percent);\n",
              "\n",
              "    outputElement.appendChild(li);\n",
              "\n",
              "    const fileDataPromise = new Promise((resolve) => {\n",
              "      const reader = new FileReader();\n",
              "      reader.onload = (e) => {\n",
              "        resolve(e.target.result);\n",
              "      };\n",
              "      reader.readAsArrayBuffer(file);\n",
              "    });\n",
              "    // Wait for the data to be ready.\n",
              "    let fileData = yield {\n",
              "      promise: fileDataPromise,\n",
              "      response: {\n",
              "        action: 'continue',\n",
              "      }\n",
              "    };\n",
              "\n",
              "    // Use a chunked sending to avoid message size limits. See b/62115660.\n",
              "    let position = 0;\n",
              "    do {\n",
              "      const length = Math.min(fileData.byteLength - position, MAX_PAYLOAD_SIZE);\n",
              "      const chunk = new Uint8Array(fileData, position, length);\n",
              "      position += length;\n",
              "\n",
              "      const base64 = btoa(String.fromCharCode.apply(null, chunk));\n",
              "      yield {\n",
              "        response: {\n",
              "          action: 'append',\n",
              "          file: file.name,\n",
              "          data: base64,\n",
              "        },\n",
              "      };\n",
              "\n",
              "      let percentDone = fileData.byteLength === 0 ?\n",
              "          100 :\n",
              "          Math.round((position / fileData.byteLength) * 100);\n",
              "      percent.textContent = `${percentDone}% done`;\n",
              "\n",
              "    } while (position < fileData.byteLength);\n",
              "  }\n",
              "\n",
              "  // All done.\n",
              "  yield {\n",
              "    response: {\n",
              "      action: 'complete',\n",
              "    }\n",
              "  };\n",
              "}\n",
              "\n",
              "scope.google = scope.google || {};\n",
              "scope.google.colab = scope.google.colab || {};\n",
              "scope.google.colab._files = {\n",
              "  _uploadFiles,\n",
              "  _uploadFilesContinue,\n",
              "};\n",
              "})(self);\n",
              "</script> "
            ]
          },
          "metadata": {}
        },
        {
          "output_type": "stream",
          "name": "stdout",
          "text": [
            "Saving items(1).csv to items(1).csv\n"
          ]
        }
      ]
    },
    {
      "cell_type": "markdown",
      "source": [
        "Implement Simulated Annealing"
      ],
      "metadata": {
        "id": "tu1IdNsR_v5B"
      }
    },
    {
      "cell_type": "code",
      "source": [
        "import random\n",
        "import math\n",
        "\n",
        "def simulated_annealing(items, bin_capacity, initial_temp, final_temp, alpha):\n",
        "    def initialize_solution(items):\n",
        "        random.shuffle(items)\n",
        "        return first_fit(items, bin_capacity)\n",
        "\n",
        "    def first_fit(items, bin_capacity):\n",
        "        bins = []\n",
        "        for item in items:\n",
        "            placed = False\n",
        "            for bin in bins:\n",
        "                if sum(bin) + item <= bin_capacity:\n",
        "                    bin.append(item)\n",
        "                    placed = True\n",
        "                    break\n",
        "            if not placed:\n",
        "                bins.append([item])\n",
        "        return bins\n",
        "\n",
        "    def neighbor(solution):\n",
        "        new_solution = [bin.copy() for bin in solution]\n",
        "        bin1, bin2 = random.sample(range(len(new_solution)), 2)\n",
        "        if not new_solution[bin1] or not new_solution[bin2]:\n",
        "            return new_solution\n",
        "        item = new_solution[bin1].pop(random.randrange(len(new_solution[bin1])))\n",
        "        new_solution[bin2].append(item)\n",
        "        if not new_solution[bin1]:\n",
        "            del new_solution[bin1]\n",
        "        return new_solution\n",
        "\n",
        "    def cost(solution):\n",
        "        return len(solution)\n",
        "\n",
        "    current_solution = initialize_solution(items)\n",
        "    current_cost = cost(current_solution)\n",
        "    temp = initial_temp\n",
        "\n",
        "    while temp > final_temp:\n",
        "        new_solution = neighbor(current_solution)\n",
        "        new_cost = cost(new_solution)\n",
        "        if new_cost < current_cost or random.uniform(0, 1) < math.exp((current_cost - new_cost) / temp):\n",
        "            current_solution = new_solution\n",
        "            current_cost = new_cost\n",
        "        temp *= alpha\n",
        "\n",
        "    return current_solution\n",
        "\n",
        "# Parameters\n",
        "bin_capacity = 100\n",
        "initial_temp = 10000\n",
        "final_temp = 1\n",
        "alpha = 0.99\n",
        "\n",
        "# Find the minimum number of bins required\n",
        "bins = simulated_annealing(items, bin_capacity, initial_temp, final_temp, alpha)\n",
        "\n",
        "# Output the total number of bins used\n",
        "print(f\"Total number of bins used: {len(bins)}\")\n",
        "\n",
        "# Save the bin packing result to an external file\n",
        "with open('bin_packing_result.txt', 'w') as file:\n",
        "    for i, bin in enumerate(bins):\n",
        "        file.write(f\"Bin {i+1}: {bin}\\n\")\n"
      ],
      "metadata": {
        "colab": {
          "base_uri": "https://localhost:8080/"
        },
        "id": "9W7u--zrSS32",
        "outputId": "6769063b-5e58-4388-8bea-b85211b8b8f4"
      },
      "execution_count": 3,
      "outputs": [
        {
          "output_type": "stream",
          "name": "stdout",
          "text": [
            "Total number of bins used: 31\n"
          ]
        }
      ]
    },
    {
      "cell_type": "code",
      "source": [
        "# Check the content of the output file\n",
        "with open('bin_packing_result.txt', 'r') as file:\n",
        "    content = file.read()\n",
        "    print(content)\n"
      ],
      "metadata": {
        "colab": {
          "base_uri": "https://localhost:8080/"
        },
        "id": "pZfGQrd4TLPj",
        "outputId": "596cdcd8-eb61-4fff-83a9-9c1545ec5a7f"
      },
      "execution_count": 4,
      "outputs": [
        {
          "output_type": "stream",
          "name": "stdout",
          "text": [
            "Bin 1: [26.4, 25.2, 25.4, 44.1, 35.5, 41.9]\n",
            "Bin 2: [25.5, 25.5, 36.6, 36.3, 25.3, 27.4, 26.8, 33.3, 33.7, 37.2, 40.0]\n",
            "Bin 3: [35.6, 40.7, 26.1, 46.9, 25.8, 37.6]\n",
            "Bin 4: [35.0, 48.8, 39.2, 25.3, 30.8, 39.2, 25.7, 29.3, 29.7, 47.8]\n",
            "Bin 5: [27.6, 35.2, 36.6, 49.5, 42.6, 31.0, 49.5, 48.0, 25.5, 26.4, 25.4, 25.0, 26.0]\n",
            "Bin 6: [26.0, 29.2, 27.3]\n",
            "Bin 7: [25.3, 25.0, 30.1, 47.3, 25.0, 26.1, 27.1, 31.2, 40.4, 25.2, 27.4, 49.1]\n",
            "Bin 8: [25.0, 28.1, 47.2, 28.2, 25.1, 25.8, 29.1, 35.9, 25.1, 31.5, 27.2, 27.4]\n",
            "Bin 9: [25.2, 46.4, 35.0, 38.2, 43.9, 34.6, 26.3, 35.7, 26.2, 29.4]\n",
            "Bin 10: [41.4, 48.0, 35.7, 28.7, 36.1, 44.1, 28.0, 44.6, 46.6]\n",
            "Bin 11: [27.1, 49.7, 29.5, 30.7, 30.2, 48.5, 26.9, 29.8, 27.4, 31.4, 30.5, 25.0, 47.4, 25.1]\n",
            "Bin 12: [49.7, 41.5, 25.9, 26.6, 25.1, 25.9]\n",
            "Bin 13: [45.0, 36.7, 27.2, 27.8, 49.6]\n",
            "Bin 14: [44.5, 25.8]\n",
            "Bin 15: [26.9, 38.6, 28.1, 25.9, 25.5, 26.0, 41.0, 25.3, 29.4, 25.6, 25.2, 36.6]\n",
            "Bin 16: [48.5, 42.6, 40.6, 33.6, 42.2, 43.0, 46.2, 26.9, 34.2, 27.5, 28.7, 36.6]\n",
            "Bin 17: [34.4, 35.7, 35.5, 34.7, 28.7, 35.1]\n",
            "Bin 18: [27.5, 39.7, 26.3, 27.1, 28.2, 26.7, 41.2, 26.7, 39.3, 27.6, 30.3, 38.5, 40.5, 37.0, 48.5, 39.2, 42.1, 49.8]\n",
            "Bin 19: [39.5, 25.5, 48.5, 25.4, 27.3, 29.0]\n",
            "Bin 20: [47.0, 32.0, 41.9, 25.9, 25.9, 25.4]\n",
            "Bin 21: [47.3, 31.4, 26.5, 33.0, 33.3, 25.8, 32.9, 26.4, 25.1]\n",
            "Bin 22: [42.0, 27.5]\n",
            "Bin 23: [28.8, 44.6, 26.9, 27.1, 47.9]\n",
            "Bin 24: [27.7, 25.4, 49.1, 35.0, 25.3, 26.2]\n",
            "Bin 25: [26.2, 25.0, 30.8, 31.8, 29.9, 31.3, 35.6, 27.6, 25.5, 49.0, 25.0, 36.7, 25.0, 29.3, 25.2]\n",
            "Bin 26: [25.0, 35.1, 43.4, 25.9, 32.5, 43.7]\n",
            "Bin 27: [25.3, 29.8, 49.2]\n",
            "Bin 28: [48.1, 25.1, 25.2, 25.0, 47.1, 27.1, 26.3, 28.3, 35.0, 36.3, 49.7, 29.4]\n",
            "Bin 29: [36.6, 25.3, 27.2]\n",
            "Bin 30: [29.8, 25.8, 36.5, 44.4, 31.8, 25.2]\n",
            "Bin 31: [44.5, 36.2, 37.0]\n",
            "\n"
          ]
        }
      ]
    },
    {
      "cell_type": "markdown",
      "source": [
        "Visualize the Performance"
      ],
      "metadata": {
        "id": "N9uGKPvKA5Zi"
      }
    },
    {
      "cell_type": "code",
      "source": [
        "import matplotlib.pyplot as plt\n",
        "\n",
        "def plot_bins(bins, bin_capacity):\n",
        "    bin_indices = range(len(bins))\n",
        "    bin_sums = [sum(bin) for bin in bins]\n",
        "    plt.figure(figsize=(10, 6))\n",
        "    plt.bar(bin_indices, bin_sums, color='skyblue')\n",
        "    plt.axhline(y=bin_capacity, color='r', linestyle='--', label='Bin Capacity')\n",
        "    plt.xlabel('Bin Index')\n",
        "    plt.ylabel('Bin Fill Level')\n",
        "    plt.title('Bin Packing Distribution')\n",
        "    plt.legend()\n",
        "    plt.show()\n",
        "\n",
        "# Visualize the bin distribution\n",
        "plot_bins(bins, bin_capacity)\n",
        "\n"
      ],
      "metadata": {
        "colab": {
          "base_uri": "https://localhost:8080/",
          "height": 564
        },
        "id": "T4FPVHjATQ2i",
        "outputId": "46dde6da-8336-4296-c24a-59e7eff8afea"
      },
      "execution_count": 5,
      "outputs": [
        {
          "output_type": "display_data",
          "data": {
            "text/plain": [
              "<Figure size 1000x600 with 1 Axes>"
            ],
            "image/png": "[encoded data removed]"
          },
          "metadata": {}
        }
      ]
    },
    {
      "cell_type": "code",
      "source": [
        "from google.colab import files\n",
        "files.download('bin_packing_result.txt')\n"
      ],
      "metadata": {
        "id": "uUHiNW13TZ_P",
        "outputId": "8c8231f1-e72b-4a72-f311-52f882535201",
        "colab": {
          "base_uri": "https://localhost:8080/",
          "height": 17
        }
      },
      "execution_count": 6,
      "outputs": [
        {
          "output_type": "display_data",
          "data": {
            "text/plain": [
              "<IPython.core.display.Javascript object>"
            ],
            "application/javascript": [
              "\n",
              "    async function download(id, filename, size) {\n",
              "      if (!google.colab.kernel.accessAllowed) {\n",
              "        return;\n",
              "      }\n",
              "      const div = document.createElement('div');\n",
              "      const label = document.createElement('label');\n",
              "      label.textContent = `Downloading \"${filename}\": `;\n",
              "      div.appendChild(label);\n",
              "      const progress = document.createElement('progress');\n",
              "      progress.max = size;\n",
              "      div.appendChild(progress);\n",
              "      document.body.appendChild(div);\n",
              "\n",
              "      const buffers = [];\n",
              "      let downloaded = 0;\n",
              "\n",
              "      const channel = await google.colab.kernel.comms.open(id);\n",
              "      // Send a message to notify the kernel that we're ready.\n",
              "      channel.send({})\n",
              "\n",
              "      for await (const message of channel.messages) {\n",
              "        // Send a message to notify the kernel that we're ready.\n",
              "        channel.send({})\n",
              "        if (message.buffers) {\n",
              "          for (const buffer of message.buffers) {\n",
              "            buffers.push(buffer);\n",
              "            downloaded += buffer.byteLength;\n",
              "            progress.value = downloaded;\n",
              "          }\n",
              "        }\n",
              "      }\n",
              "      const blob = new Blob(buffers, {type: 'application/binary'});\n",
              "      const a = document.createElement('a');\n",
              "      a.href = window.URL.createObjectURL(blob);\n",
              "      a.download = filename;\n",
              "      div.appendChild(a);\n",
              "      a.click();\n",
              "      div.remove();\n",
              "    }\n",
              "  "
            ]
          },
          "metadata": {}
        },
        {
          "output_type": "display_data",
          "data": {
            "text/plain": [
              "<IPython.core.display.Javascript object>"
            ],
            "application/javascript": [
              "download(\"download_0978ab7d-0029-4dd5-910b-ae3630432246\", \"bin_packing_result.txt\", 1764)"
            ]
          },
          "metadata": {}
        }
      ]
    }
  ]
}