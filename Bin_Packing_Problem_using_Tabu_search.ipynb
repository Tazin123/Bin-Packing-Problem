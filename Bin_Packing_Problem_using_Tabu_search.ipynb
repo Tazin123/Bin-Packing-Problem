{
  "nbformat": 4,
  "nbformat_minor": 0,
  "metadata": {
    "colab": {
      "provenance": []
    },
    "kernelspec": {
      "name": "python3",
      "display_name": "Python 3"
    },
    "language_info": {
      "name": "python"
    }
  },
  "cells": [
    {
      "cell_type": "code",
      "execution_count": null,
      "metadata": {
        "id": "DIOMmhQKlt85"
      },
      "outputs": [],
      "source": []
    },
    {
      "cell_type": "markdown",
      "source": [
        "Upload and Read the CSV File"
      ],
      "metadata": {
        "id": "0t_cZCHNl6ad"
      }
    },
    {
      "cell_type": "code",
      "source": [
        "import csv\n",
        "from google.colab import files\n",
        "\n",
        "# Upload the CSV file\n",
        "uploaded = files.upload()\n",
        "\n",
        "# Function to read the CSV file\n",
        "def read_csv(filename):\n",
        "    items = []\n",
        "    with open(filename, 'r') as file:\n",
        "        reader = csv.reader(file)\n",
        "        for row in reader:\n",
        "            items.append(float(row[0]))  # Use float to handle both integers and floating-point numbers\n",
        "    return items\n",
        "\n",
        "# Assuming the uploaded file is named 'items.csv'\n",
        "items = read_csv('items(1).csv')\n",
        "print(items[:10])  # Print the first 10 items to verify the contents\n"
      ],
      "metadata": {
        "colab": {
          "base_uri": "https://localhost:8080/",
          "height": 90
        },
        "id": "bugBhpzLl7pj",
        "outputId": "aa72f3ff-774c-4227-d9d4-a644cb959efd"
      },
      "execution_count": 1,
      "outputs": [
        {
          "output_type": "display_data",
          "data": {
            "text/plain": [
              "<IPython.core.display.HTML object>"
            ],
            "text/html": [
              "\n",
              "     <input type=\"file\" id=\"files-a34d00f1-50a3-4840-950e-68f31bc6459c\" name=\"files[]\" multiple disabled\n",
              "        style=\"border:none\" />\n",
              "     <output id=\"result-a34d00f1-50a3-4840-950e-68f31bc6459c\">\n",
              "      Upload widget is only available when the cell has been executed in the\n",
              "      current browser session. Please rerun this cell to enable.\n",
              "      </output>\n",
              "      <script>// Copyright 2017 Google LLC\n",
              "//\n",
              "// Licensed under the Apache License, Version 2.0 (the \"License\");\n",
              "// you may not use this file except in compliance with the License.\n",
              "// You may obtain a copy of the License at\n",
              "//\n",
              "//      http://www.apache.org/licenses/LICENSE-2.0\n",
              "//\n",
              "// Unless required by applicable law or agreed to in writing, software\n",
              "// distributed under the License is distributed on an \"AS IS\" BASIS,\n",
              "// WITHOUT WARRANTIES OR CONDITIONS OF ANY KIND, either express or implied.\n",
              "// See the License for the specific language governing permissions and\n",
              "// limitations under the License.\n",
              "\n",
              "/**\n",
              " * @fileoverview Helpers for google.colab Python module.\n",
              " */\n",
              "(function(scope) {\n",
              "function span(text, styleAttributes = {}) {\n",
              "  const element = document.createElement('span');\n",
              "  element.textContent = text;\n",
              "  for (const key of Object.keys(styleAttributes)) {\n",
              "    element.style[key] = styleAttributes[key];\n",
              "  }\n",
              "  return element;\n",
              "}\n",
              "\n",
              "// Max number of bytes which will be uploaded at a time.\n",
              "const MAX_PAYLOAD_SIZE = 100 * 1024;\n",
              "\n",
              "function _uploadFiles(inputId, outputId) {\n",
              "  const steps = uploadFilesStep(inputId, outputId);\n",
              "  const outputElement = document.getElementById(outputId);\n",
              "  // Cache steps on the outputElement to make it available for the next call\n",
              "  // to uploadFilesContinue from Python.\n",
              "  outputElement.steps = steps;\n",
              "\n",
              "  return _uploadFilesContinue(outputId);\n",
              "}\n",
              "\n",
              "// This is roughly an async generator (not supported in the browser yet),\n",
              "// where there are multiple asynchronous steps and the Python side is going\n",
              "// to poll for completion of each step.\n",
              "// This uses a Promise to block the python side on completion of each step,\n",
              "// then passes the result of the previous step as the input to the next step.\n",
              "function _uploadFilesContinue(outputId) {\n",
              "  const outputElement = document.getElementById(outputId);\n",
              "  const steps = outputElement.steps;\n",
              "\n",
              "  const next = steps.next(outputElement.lastPromiseValue);\n",
              "  return Promise.resolve(next.value.promise).then((value) => {\n",
              "    // Cache the last promise value to make it available to the next\n",
              "    // step of the generator.\n",
              "    outputElement.lastPromiseValue = value;\n",
              "    return next.value.response;\n",
              "  });\n",
              "}\n",
              "\n",
              "/**\n",
              " * Generator function which is called between each async step of the upload\n",
              " * process.\n",
              " * @param {string} inputId Element ID of the input file picker element.\n",
              " * @param {string} outputId Element ID of the output display.\n",
              " * @return {!Iterable<!Object>} Iterable of next steps.\n",
              " */\n",
              "function* uploadFilesStep(inputId, outputId) {\n",
              "  const inputElement = document.getElementById(inputId);\n",
              "  inputElement.disabled = false;\n",
              "\n",
              "  const outputElement = document.getElementById(outputId);\n",
              "  outputElement.innerHTML = '';\n",
              "\n",
              "  const pickedPromise = new Promise((resolve) => {\n",
              "    inputElement.addEventListener('change', (e) => {\n",
              "      resolve(e.target.files);\n",
              "    });\n",
              "  });\n",
              "\n",
              "  const cancel = document.createElement('button');\n",
              "  inputElement.parentElement.appendChild(cancel);\n",
              "  cancel.textContent = 'Cancel upload';\n",
              "  const cancelPromise = new Promise((resolve) => {\n",
              "    cancel.onclick = () => {\n",
              "      resolve(null);\n",
              "    };\n",
              "  });\n",
              "\n",
              "  // Wait for the user to pick the files.\n",
              "  const files = yield {\n",
              "    promise: Promise.race([pickedPromise, cancelPromise]),\n",
              "    response: {\n",
              "      action: 'starting',\n",
              "    }\n",
              "  };\n",
              "\n",
              "  cancel.remove();\n",
              "\n",
              "  // Disable the input element since further picks are not allowed.\n",
              "  inputElement.disabled = true;\n",
              "\n",
              "  if (!files) {\n",
              "    return {\n",
              "      response: {\n",
              "        action: 'complete',\n",
              "      }\n",
              "    };\n",
              "  }\n",
              "\n",
              "  for (const file of files) {\n",
              "    const li = document.createElement('li');\n",
              "    li.append(span(file.name, {fontWeight: 'bold'}));\n",
              "    li.append(span(\n",
              "        `(${file.type || 'n/a'}) - ${file.size} bytes, ` +\n",
              "        `last modified: ${\n",
              "            file.lastModifiedDate ? file.lastModifiedDate.toLocaleDateString() :\n",
              "                                    'n/a'} - `));\n",
              "    const percent = span('0% done');\n",
              "    li.appendChild(percent);\n",
              "\n",
              "    outputElement.appendChild(li);\n",
              "\n",
              "    const fileDataPromise = new Promise((resolve) => {\n",
              "      const reader = new FileReader();\n",
              "      reader.onload = (e) => {\n",
              "        resolve(e.target.result);\n",
              "      };\n",
              "      reader.readAsArrayBuffer(file);\n",
              "    });\n",
              "    // Wait for the data to be ready.\n",
              "    let fileData = yield {\n",
              "      promise: fileDataPromise,\n",
              "      response: {\n",
              "        action: 'continue',\n",
              "      }\n",
              "    };\n",
              "\n",
              "    // Use a chunked sending to avoid message size limits. See b/62115660.\n",
              "    let position = 0;\n",
              "    do {\n",
              "      const length = Math.min(fileData.byteLength - position, MAX_PAYLOAD_SIZE);\n",
              "      const chunk = new Uint8Array(fileData, position, length);\n",
              "      position += length;\n",
              "\n",
              "      const base64 = btoa(String.fromCharCode.apply(null, chunk));\n",
              "      yield {\n",
              "        response: {\n",
              "          action: 'append',\n",
              "          file: file.name,\n",
              "          data: base64,\n",
              "        },\n",
              "      };\n",
              "\n",
              "      let percentDone = fileData.byteLength === 0 ?\n",
              "          100 :\n",
              "          Math.round((position / fileData.byteLength) * 100);\n",
              "      percent.textContent = `${percentDone}% done`;\n",
              "\n",
              "    } while (position < fileData.byteLength);\n",
              "  }\n",
              "\n",
              "  // All done.\n",
              "  yield {\n",
              "    response: {\n",
              "      action: 'complete',\n",
              "    }\n",
              "  };\n",
              "}\n",
              "\n",
              "scope.google = scope.google || {};\n",
              "scope.google.colab = scope.google.colab || {};\n",
              "scope.google.colab._files = {\n",
              "  _uploadFiles,\n",
              "  _uploadFilesContinue,\n",
              "};\n",
              "})(self);\n",
              "</script> "
            ]
          },
          "metadata": {}
        },
        {
          "output_type": "stream",
          "name": "stdout",
          "text": [
            "Saving items(1).csv to items(1).csv\n",
            "[36.6, 26.8, 36.6, 43.0, 26.3, 30.7, 41.4, 28.7, 29.9, 49.5]\n"
          ]
        }
      ]
    },
    {
      "cell_type": "markdown",
      "source": [
        "Implement Tabu Search Algorithm"
      ],
      "metadata": {
        "id": "UpZCyE90mJwV"
      }
    },
    {
      "cell_type": "code",
      "source": [
        "import random\n",
        "import copy\n",
        "\n",
        "# Function to perform the first-fit bin packing\n",
        "def first_fit(items, bin_capacity):\n",
        "    bins = []\n",
        "    for item in items:\n",
        "        placed = False\n",
        "        for bin in bins:\n",
        "            if sum(bin) + item <= bin_capacity:\n",
        "                bin.append(item)\n",
        "                placed = True\n",
        "                break\n",
        "        if not placed:\n",
        "            bins.append([item])\n",
        "    return bins\n",
        "\n",
        "# Function to find a neighbor solution by moving an item from one bin to another\n",
        "def neighbor(solution, bin_capacity):\n",
        "    new_solution = [bin.copy() for bin in solution]\n",
        "    bin1, bin2 = random.sample(range(len(new_solution)), 2)\n",
        "    if not new_solution[bin1] or not new_solution[bin2]:\n",
        "        return new_solution\n",
        "    item = new_solution[bin1].pop(random.randrange(len(new_solution[bin1])))\n",
        "    new_solution[bin2].append(item)\n",
        "    if not new_solution[bin1]:\n",
        "        del new_solution[bin1]\n",
        "    return new_solution\n",
        "\n",
        "# Function to calculate the cost of a solution (number of bins used)\n",
        "def cost(solution):\n",
        "    return len(solution)\n",
        "\n",
        "# Tabu Search Algorithm\n",
        "def tabu_search(items, bin_capacity, tabu_size, iterations):\n",
        "    current_solution = first_fit(items, bin_capacity)\n",
        "    best_solution = current_solution\n",
        "    best_cost = cost(best_solution)\n",
        "\n",
        "    tabu_list = []\n",
        "\n",
        "    for _ in range(iterations):\n",
        "        neighborhood = [neighbor(current_solution, bin_capacity) for _ in range(100)]\n",
        "        neighborhood = [s for s in neighborhood if s not in tabu_list]\n",
        "\n",
        "        neighborhood_costs = [cost(s) for s in neighborhood]\n",
        "        best_neighbor = neighborhood[neighborhood_costs.index(min(neighborhood_costs))]\n",
        "\n",
        "        current_solution = best_neighbor\n",
        "        current_cost = cost(current_solution)\n",
        "\n",
        "        if current_cost < best_cost:\n",
        "            best_solution = current_solution\n",
        "            best_cost = current_cost\n",
        "\n",
        "        tabu_list.append(current_solution)\n",
        "        if len(tabu_list) > tabu_size:\n",
        "            tabu_list.pop(0)\n",
        "\n",
        "    return best_solution\n",
        "\n",
        "# Parameters\n",
        "bin_capacity = 100\n",
        "tabu_size = 50\n",
        "iterations = 1000\n",
        "\n",
        "# Find the minimum number of bins required\n",
        "bins = tabu_search(items, bin_capacity, tabu_size, iterations)\n",
        "\n",
        "# Output the total number of bins used\n",
        "print(f\"Total number of bins used: {len(bins)}\")\n",
        "\n",
        "# Save the bin packing result to an external file\n",
        "with open('bin_packing_result.txt', 'w') as file:\n",
        "    for i, bin in enumerate(bins):\n",
        "        file.write(f\"Bin {i+1}: {bin}\\n\")\n"
      ],
      "metadata": {
        "colab": {
          "base_uri": "https://localhost:8080/"
        },
        "id": "la3HgR2RmO5n",
        "outputId": "9a6dddc2-7d81-4988-d684-7d34723a66ac"
      },
      "execution_count": 2,
      "outputs": [
        {
          "output_type": "stream",
          "name": "stdout",
          "text": [
            "Total number of bins used: 22\n"
          ]
        }
      ]
    },
    {
      "cell_type": "markdown",
      "source": [
        "Check the Content of the Output File"
      ],
      "metadata": {
        "id": "He2WWqJ7mhZy"
      }
    },
    {
      "cell_type": "code",
      "source": [
        "# Check the content of the output file\n",
        "with open('bin_packing_result.txt', 'r') as file:\n",
        "    content = file.read()\n",
        "    print(content)\n"
      ],
      "metadata": {
        "colab": {
          "base_uri": "https://localhost:8080/"
        },
        "id": "2Tb6J-o5miYl",
        "outputId": "fdafcc8b-2269-4cab-9e32-c26326f00bca"
      },
      "execution_count": 4,
      "outputs": [
        {
          "output_type": "stream",
          "name": "stdout",
          "text": [
            "Bin 1: [43.0, 27.8, 49.0, 38.6, 26.0, 29.7, 48.5, 42.2, 29.4, 35.0, 35.5, 26.0, 35.6, 48.1, 31.5, 39.7, 26.4, 39.2, 26.2, 27.4, 25.2]\n",
            "Bin 2: [31.8, 27.2, 28.2, 49.2, 25.2, 36.6, 42.6, 25.9]\n",
            "Bin 3: [27.5, 26.1, 25.1, 25.5, 26.9, 25.2, 43.4, 29.5, 29.8, 27.6]\n",
            "Bin 4: [47.3, 30.8, 29.0, 26.8, 43.7, 29.4, 28.7, 41.5, 37.6, 47.3, 25.8, 28.8, 29.3, 48.0, 25.1, 34.6, 26.6, 25.3, 47.9, 40.5]\n",
            "Bin 5: [25.3, 46.4, 34.7, 25.5, 40.4, 25.4, 27.1, 31.8, 30.2, 31.3, 35.6]\n",
            "Bin 6: [48.5, 29.1, 25.2, 49.7, 49.1, 26.9, 26.3, 31.4, 44.1, 40.0, 32.9, 30.1, 47.2, 26.3, 27.3, 38.5]\n",
            "Bin 7: [46.2, 25.0, 25.4, 27.1, 49.1, 41.2, 25.8, 25.2, 31.4, 49.8, 25.0, 25.4, 30.5]\n",
            "Bin 8: [33.6, 25.1, 44.6, 25.4, 25.1, 36.6, 25.0, 44.5, 35.7, 25.5, 49.5, 48.0, 33.7, 36.5]\n",
            "Bin 9: [47.4, 30.7, 46.9, 25.6]\n",
            "Bin 10: [35.0, 27.4, 48.8, 47.8]\n",
            "Bin 11: [25.0, 27.6, 26.2, 35.5, 35.7, 25.3]\n",
            "Bin 12: [41.9, 26.7, 35.7, 35.2, 42.1]\n",
            "Bin 13: [26.0, 41.4, 44.6, 28.2, 25.2]\n",
            "Bin 14: [27.6, 25.1, 25.3, 48.5, 37.0, 25.1, 28.7, 37.0, 49.6, 29.9, 27.5, 27.1, 45.0, 44.4, 35.0, 37.2, 26.9, 42.0, 26.4, 27.2, 25.8]\n",
            "Bin 15: [25.0, 26.3, 27.1, 29.4, 29.3, 39.3, 36.7, 25.5, 27.2, 44.5, 36.7, 36.2]\n",
            "Bin 16: [38.2, 29.8, 25.3, 35.9, 30.8, 41.0, 27.4, 36.6, 32.0]\n",
            "Bin 17: [48.5, 28.1, 26.5, 26.9, 32.5, 36.6, 25.5, 30.3, 33.3, 43.9, 25.3, 29.2, 28.3, 26.4, 25.5]\n",
            "Bin 18: [25.9, 25.2, 25.9, 25.0, 28.0]\n",
            "Bin 19: [25.9, 26.7, 27.5, 25.9, 28.1, 36.6, 34.4, 28.7, 40.7, 25.0, 25.4, 49.7]\n",
            "Bin 20: [33.0, 36.1, 27.7, 39.5, 49.5, 26.2, 36.3, 39.2, 25.0]\n",
            "Bin 21: [25.3, 40.6, 25.8, 41.9, 25.0, 35.1, 31.0, 46.6, 47.1, 25.9, 34.2, 39.2, 35.1, 36.3, 25.0, 47.0, 31.2, 44.1, 27.4, 27.1, 29.8]\n",
            "Bin 22: [42.6, 49.7, 26.1, 27.3, 33.3, 25.8, 25.7, 35.0]\n",
            "\n"
          ]
        }
      ]
    },
    {
      "cell_type": "markdown",
      "source": [
        "Visualize the Performance"
      ],
      "metadata": {
        "id": "aDEagrKOm2P2"
      }
    },
    {
      "cell_type": "code",
      "source": [
        "import matplotlib.pyplot as plt\n",
        "\n",
        "def plot_bins(bins, bin_capacity):\n",
        "    bin_indices = range(len(bins))\n",
        "    bin_sums = [sum(bin) for bin in bins]\n",
        "    plt.figure(figsize=(10, 6))\n",
        "    plt.bar(bin_indices, bin_sums, color='skyblue')\n",
        "    plt.axhline(y=bin_capacity, color='r', linestyle='--', label='Bin Capacity')\n",
        "    plt.xlabel('Bin Index')\n",
        "    plt.ylabel('Bin Fill Level')\n",
        "    plt.title('Bin Packing Distribution')\n",
        "    plt.legend()\n",
        "    plt.show()\n",
        "\n",
        "# Visualize the bin distribution\n",
        "plot_bins(bins, bin_capacity)\n"
      ],
      "metadata": {
        "colab": {
          "base_uri": "https://localhost:8080/",
          "height": 535
        },
        "id": "gAbGScECm6bg",
        "outputId": "c9e6188e-82ef-492e-aeaf-f40ffb93d637"
      },
      "execution_count": 5,
      "outputs": [
        {
          "output_type": "display_data",
          "data": {
            "text/plain": [
              "<Figure size 1000x600 with 1 Axes>"
            ],
            "image/png": "[encoded data removed]"
          },
          "metadata": {}
        }
      ]
    },
    {
      "cell_type": "markdown",
      "source": [
        "Download the Result File"
      ],
      "metadata": {
        "id": "NCeSwxG7nAuF"
      }
    },
    {
      "cell_type": "code",
      "source": [
        "from google.colab import files\n",
        "files.download('bin_packing_result.txt')\n"
      ],
      "metadata": {
        "colab": {
          "base_uri": "https://localhost:8080/",
          "height": 17
        },
        "id": "QofuruV_nG_U",
        "outputId": "f4128ec6-4228-4d2a-9941-b5de1f0e34a1"
      },
      "execution_count": 6,
      "outputs": [
        {
          "output_type": "display_data",
          "data": {
            "text/plain": [
              "<IPython.core.display.Javascript object>"
            ],
            "application/javascript": [
              "\n",
              "    async function download(id, filename, size) {\n",
              "      if (!google.colab.kernel.accessAllowed) {\n",
              "        return;\n",
              "      }\n",
              "      const div = document.createElement('div');\n",
              "      const label = document.createElement('label');\n",
              "      label.textContent = `Downloading \"${filename}\": `;\n",
              "      div.appendChild(label);\n",
              "      const progress = document.createElement('progress');\n",
              "      progress.max = size;\n",
              "      div.appendChild(progress);\n",
              "      document.body.appendChild(div);\n",
              "\n",
              "      const buffers = [];\n",
              "      let downloaded = 0;\n",
              "\n",
              "      const channel = await google.colab.kernel.comms.open(id);\n",
              "      // Send a message to notify the kernel that we're ready.\n",
              "      channel.send({})\n",
              "\n",
              "      for await (const message of channel.messages) {\n",
              "        // Send a message to notify the kernel that we're ready.\n",
              "        channel.send({})\n",
              "        if (message.buffers) {\n",
              "          for (const buffer of message.buffers) {\n",
              "            buffers.push(buffer);\n",
              "            downloaded += buffer.byteLength;\n",
              "            progress.value = downloaded;\n",
              "          }\n",
              "        }\n",
              "      }\n",
              "      const blob = new Blob(buffers, {type: 'application/binary'});\n",
              "      const a = document.createElement('a');\n",
              "      a.href = window.URL.createObjectURL(blob);\n",
              "      a.download = filename;\n",
              "      div.appendChild(a);\n",
              "      a.click();\n",
              "      div.remove();\n",
              "    }\n",
              "  "
            ]
          },
          "metadata": {}
        },
        {
          "output_type": "display_data",
          "data": {
            "text/plain": [
              "<IPython.core.display.Javascript object>"
            ],
            "application/javascript": [
              "download(\"download_2263aa3f-5ef5-49a5-bea0-856dcbc99964\", \"bin_packing_result.txt\", 1683)"
            ]
          },
          "metadata": {}
        }
      ]
    }
  ]
}